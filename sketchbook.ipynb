{
 "cells": [
  {
   "cell_type": "code",
   "execution_count": 18,
   "metadata": {},
   "outputs": [],
   "source": [
    "from datetime import datetime, timezone\n",
    "from dateutil.relativedelta import relativedelta\n",
    "from pybit.unified_trading import HTTP\n",
    "\n",
    "session = HTTP(testnet=True)\n",
    "ticker_str = \"BTC\"\n",
    "years = 1\n",
    "\n",
    "current_time = datetime.now(timezone.utc)\n",
    "n_years_ago = (current_time - relativedelta(years=years)).replace(minute=0, second=0, microsecond=0)\n",
    "\n",
    "current_time_unix = current_time.timestamp() * 1000\n",
    "n_years_ago_unix = datetime.combine(n_years_ago, datetime.min.time(), tzinfo=timezone.utc).timestamp() * 1000\n",
    "\n",
    "response = session.get_kline(\n",
    "    category=\"spot\",\n",
    "    symbol=f\"{ticker_str}USDT\",\n",
    "    interval=\"D\",\n",
    "    start=int(n_years_ago_unix),\n",
    "    end=int(current_time_unix),\n",
    ")\n",
    "\n",
    "price_data = response[\"result\"][\"list\"][::-1]"
   ]
  },
  {
   "cell_type": "code",
   "execution_count": 20,
   "metadata": {},
   "outputs": [
    {
     "name": "stdout",
     "output_type": "stream",
     "text": [
      "['1670976000000', '17150', '18101.36', '16934.04', '17914.71', '2253.507377', '38829279.52055397']\n"
     ]
    }
   ],
   "source": [
    "print(price_data[0])"
   ]
  },
  {
   "cell_type": "code",
   "execution_count": 21,
   "metadata": {},
   "outputs": [
    {
     "data": {
      "text/plain": [
       "200"
      ]
     },
     "execution_count": 21,
     "metadata": {},
     "output_type": "execute_result"
    }
   ],
   "source": [
    "len(price_data)"
   ]
  },
  {
   "cell_type": "code",
   "execution_count": null,
   "metadata": {},
   "outputs": [],
   "source": []
  }
 ],
 "metadata": {
  "language_info": {
   "name": "python"
  },
  "orig_nbformat": 4
 },
 "nbformat": 4,
 "nbformat_minor": 2
}
